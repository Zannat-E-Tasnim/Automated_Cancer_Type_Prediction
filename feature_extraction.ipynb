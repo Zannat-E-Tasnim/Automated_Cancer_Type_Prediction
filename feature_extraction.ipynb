{
  "nbformat": 4,
  "nbformat_minor": 0,
  "metadata": {
    "colab": {
      "provenance": [],
      "authorship_tag": "ABX9TyPFAh9f9O3DHP2xwcFMcMe9"
    },
    "kernelspec": {
      "name": "python3",
      "display_name": "Python 3"
    },
    "language_info": {
      "name": "python"
    }
  },
  "cells": [
    {
      "cell_type": "code",
      "source": [
        "from google.colab import drive\n",
        "drive.mount('/content/drive')\n",
        "%cd /content/drive/MyDrive/GCN_Cancer-master/GCN_Cancer"
      ],
      "metadata": {
        "id": "txZJQUuB86d7"
      },
      "execution_count": null,
      "outputs": []
    },
    {
      "cell_type": "code",
      "source": [
        "import sys, os\n",
        "sys.path.insert(0, '..')\n",
        "from lib import models, graph, coarsening, utils\n",
        "import sklearn.metrics\n",
        "import sklearn.neighbors\n",
        "import matplotlib.pyplot as plt\n",
        "import scipy.sparse\n",
        "import scipy.sparse.linalg\n",
        "import scipy.spatial.distance\n",
        "import tensorflow as tf\n",
        "import numpy as np\n",
        "import time\n",
        "import h5py\n",
        "import scipy.io as sio"
      ],
      "metadata": {
        "id": "zAQvosNm87Y7"
      },
      "execution_count": null,
      "outputs": []
    },
    {
      "cell_type": "code",
      "source": [
        "from tensorflow.keras.models import Model\n",
        "from tensorflow.keras.layers import Input, Conv2D, Flatten, Dense, Reshape"
      ],
      "metadata": {
        "id": "P1w-hRg09S3m"
      },
      "execution_count": null,
      "outputs": []
    },
    {
      "cell_type": "code",
      "execution_count": null,
      "metadata": {
        "id": "dCeF_mIs6ZmF"
      },
      "outputs": [],
      "source": [
        "data = sio.loadmat('cancer_gene_expression.mat')\n",
        "data = data.astype(np.float32)\n",
        "\n",
        "input_layer = Input(shape=(n_genes, n_features, 1))\n",
        "\n",
        "x = Conv2D(32, (3, 3), activation='relu', padding='same')(input_layer)\n",
        "x = Conv2D(64, (3, 3), activation='relu', padding='same')(x)\n",
        "x = Flatten()(x)\n",
        "x = Dense(256, activation='relu')(x)\n",
        "x = Dense(n_genes * n_genes, activation='sigmoid')(x)\n",
        "output_layer = Reshape((n_genes, n_genes))(x)\n",
        "model = Model(inputs=input_layer, outputs=output_layer)\n",
        "model.compile(optimizer='adam', loss='binary_crossentropy')\n",
        "model.summary()"
      ]
    },
    {
      "cell_type": "code",
      "source": [
        "input_data = np.expand_dims(data[:1], axis=-1)\n",
        "adjacency_matrix = model.predict(input_data)\n",
        "\n",
        "threshold = 0.5  # Define a threshold for edge inclusion\n",
        "rows, cols = np.where(adjacency_matrix[0] > threshold)\n",
        "values = adjacency_matrix[0][rows, cols]\n",
        "sparse_matrix = np.vstack((rows, cols, values)).T\n",
        "print(\"Sparse Adjacency Matrix (Top 10 Edges):\", sparse_matrix[:10])"
      ],
      "metadata": {
        "id": "QFQtXjub-JIV"
      },
      "execution_count": null,
      "outputs": []
    },
    {
      "cell_type": "code",
      "source": [
        "input_data = np.expand_dims(data[:1], axis=-1)\n",
        "adjacency_matrix = model.predict(input_data)\n",
        "\n",
        "threshold = 0.7  # Define a threshold for edge inclusion\n",
        "rows, cols = np.where(adjacency_matrix[0] > threshold)\n",
        "values = adjacency_matrix[0][rows, cols]\n",
        "sparse_matrix = np.vstack((rows, cols, values)).T\n",
        "print(\"Sparse Adjacency Matrix (Top 10 Edges):\", sparse_matrix[:10])"
      ],
      "metadata": {
        "id": "Q5yO0Q48-NbK"
      },
      "execution_count": null,
      "outputs": []
    }
  ]
}